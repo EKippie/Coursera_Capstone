{
 "cells": [
  {
   "cell_type": "markdown",
   "metadata": {},
   "source": [
    "# Introduction to the Business Problem:"
   ]
  },
  {
   "cell_type": "markdown",
   "metadata": {},
   "source": [
    "In this project, I will study, analyze, cluster, and compare the neighborhoods of two important\n",
    "cities in the world: New York City which is located in United States of America and Toronto which\n",
    "is located in Canada. \n",
    "\n",
    "I will investigate what kinds of businesses are common in both cities,\n",
    "what kinds of businesses are more common in one of the two cities than the other city, and what\n",
    "kinds of businesses are not common in both cities.\n",
    "\n",
    "By juxtaposition of the 2 cities, we will be able to get a better understanding of similarities and differences between both cities,  which will make it known to business people what types of businesses are more likely to thrive in both cities, what are the neighborhoods that are suitable for each type of business, and what types of businesses are not very desirable in each city. This allows businesspeople to take better and more effective decisions regarding where to open their businesses and the types of business to open. \n"
   ]
  },
  {
   "cell_type": "markdown",
   "metadata": {},
   "source": [
    "# Data preperation and data science ideas:"
   ]
  },
  {
   "cell_type": "markdown",
   "metadata": {},
   "source": [
    "The following 2 data sets will be used for this project:\n",
    "\n",
    "New York City Data - https://cf-courses-data.s3.us.cloud-object-storage.appdomain.cloud/IBMDeveloperSkillsNetwork-DS0701EN-SkillsNetwork/labs/newyork_data.json\n",
    "    \n",
    "Toronto Data - https://en.wikipedia.org/wiki/List_of_postal_codes_of_Canada:_M\n",
    "\n",
    "In this section, the processes of acquiring, cleaning, and preparing each dataset used in this project\n",
    "for next stages will be specified. To be able to do this project, two types of data are needed:\n",
    "\n",
    "_ Neighborhood Data: datasets that lists the names of the neighborhoods of NYC and Toronto\n",
    "and their latitude and longitude coordinates, we also need to scrape some\n",
    "data from the internet.\n",
    "\n",
    "_ Venues data: data that describes the top 100 venues (restaurants, cafes, parks, museums, etc.)\n",
    "\n",
    "This data will be retrieved from Foursquare which is one of the world largest sources of\n",
    "location and venue data. Foursquare API will be utilized to get and download the data.\n",
    "\n",
    "Apart from Foursquare, I will be leveraging other skills and libraries I have learnt in the course such as:\n",
    "\n",
    "Geopy to convert an address into latitude and longitude values\n",
    "\n",
    "Pandas.io.jason to transform Json files into pandas dataframes\n",
    "\n",
    "Kmeans clustering to cluster the data into specific categories\n",
    "\n",
    "Matplotlib and folium to add the visualisation aspects to the overall projects. \n"
   ]
  }
 ],
 "metadata": {
  "kernelspec": {
   "display_name": "Python 3",
   "language": "python",
   "name": "python3"
  },
  "language_info": {
   "codemirror_mode": {
    "name": "ipython",
    "version": 3
   },
   "file_extension": ".py",
   "mimetype": "text/x-python",
   "name": "python",
   "nbconvert_exporter": "python",
   "pygments_lexer": "ipython3",
   "version": "3.8.3"
  }
 },
 "nbformat": 4,
 "nbformat_minor": 4
}
